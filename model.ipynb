{
 "cells": [
  {
   "cell_type": "markdown",
   "id": "edd7d085",
   "metadata": {},
   "source": [
    "## Superstore Profit-loss prediction "
   ]
  },
  {
   "cell_type": "markdown",
   "id": "f740a4bd",
   "metadata": {},
   "source": [
    "Part 2: Prediction of profit-loss values instead of classifying the records as profitable and non-profitable records"
   ]
  },
  {
   "cell_type": "markdown",
   "id": "6bfed69f",
   "metadata": {},
   "source": [
    "**Importing Required Modules and tools**"
   ]
  },
  {
   "cell_type": "code",
   "execution_count": 71,
   "id": "1902b152",
   "metadata": {},
   "outputs": [],
   "source": [
    "#Data Pre-processing\n",
    "import numpy as np\n",
    "import pandas as pd\n",
    "from imblearn.combine import SMOTETomek\n",
    "\n",
    "#Data Visualization \n",
    "import seaborn as sns\n",
    "import matplotlib.pyplot as plt\n",
    "%matplotlib inline\n",
    "\n",
    "#Machine Learning \n",
    "from sklearn.preprocessing import RobustScaler,StandardScaler,LabelEncoder\n",
    "from sklearn.pipeline import Pipeline\n",
    "from sklearn.model_selection import train_test_split,StratifiedKFold,GridSearchCV,RandomizedSearchCV,KFold\n",
    "from sklearn.linear_model import LinearRegression,Lasso,Ridge\n",
    "from sklearn.neighbors import KNeighborsRegressor\n",
    "from sklearn.svm import SVR\n",
    "from sklearn.ensemble import RandomForestRegressor,GradientBoostingRegressor,VotingRegressor\n",
    "from sklearn.metrics import mean_absolute_error,mean_squared_error, median_absolute_error\n",
    "from sklearn.feature_selection import SelectKBest,f_regression\n",
    "\n",
    "import pickle"
   ]
  },
  {
   "cell_type": "markdown",
   "id": "7285ac9b",
   "metadata": {},
   "source": [
    "**Loading Data**"
   ]
  },
  {
   "cell_type": "code",
   "execution_count": 72,
   "id": "bcc1cd10",
   "metadata": {},
   "outputs": [
    {
     "data": {
      "text/html": [
       "<div>\n",
       "<style scoped>\n",
       "    .dataframe tbody tr th:only-of-type {\n",
       "        vertical-align: middle;\n",
       "    }\n",
       "\n",
       "    .dataframe tbody tr th {\n",
       "        vertical-align: top;\n",
       "    }\n",
       "\n",
       "    .dataframe thead th {\n",
       "        text-align: right;\n",
       "    }\n",
       "</style>\n",
       "<table border=\"1\" class=\"dataframe\">\n",
       "  <thead>\n",
       "    <tr style=\"text-align: right;\">\n",
       "      <th></th>\n",
       "      <th>Ship Mode</th>\n",
       "      <th>Segment</th>\n",
       "      <th>Country</th>\n",
       "      <th>City</th>\n",
       "      <th>State</th>\n",
       "      <th>Postal Code</th>\n",
       "      <th>Region</th>\n",
       "      <th>Category</th>\n",
       "      <th>Sub-Category</th>\n",
       "      <th>Sales</th>\n",
       "      <th>Quantity</th>\n",
       "      <th>Discount</th>\n",
       "      <th>Profit</th>\n",
       "    </tr>\n",
       "  </thead>\n",
       "  <tbody>\n",
       "    <tr>\n",
       "      <th>0</th>\n",
       "      <td>Second Class</td>\n",
       "      <td>Consumer</td>\n",
       "      <td>United States</td>\n",
       "      <td>Henderson</td>\n",
       "      <td>Kentucky</td>\n",
       "      <td>42420</td>\n",
       "      <td>South</td>\n",
       "      <td>Furniture</td>\n",
       "      <td>Bookcases</td>\n",
       "      <td>261.9600</td>\n",
       "      <td>2</td>\n",
       "      <td>0.00</td>\n",
       "      <td>41.9136</td>\n",
       "    </tr>\n",
       "    <tr>\n",
       "      <th>1</th>\n",
       "      <td>Second Class</td>\n",
       "      <td>Consumer</td>\n",
       "      <td>United States</td>\n",
       "      <td>Henderson</td>\n",
       "      <td>Kentucky</td>\n",
       "      <td>42420</td>\n",
       "      <td>South</td>\n",
       "      <td>Furniture</td>\n",
       "      <td>Chairs</td>\n",
       "      <td>731.9400</td>\n",
       "      <td>3</td>\n",
       "      <td>0.00</td>\n",
       "      <td>219.5820</td>\n",
       "    </tr>\n",
       "    <tr>\n",
       "      <th>2</th>\n",
       "      <td>Second Class</td>\n",
       "      <td>Corporate</td>\n",
       "      <td>United States</td>\n",
       "      <td>Los Angeles</td>\n",
       "      <td>California</td>\n",
       "      <td>90036</td>\n",
       "      <td>West</td>\n",
       "      <td>Office Supplies</td>\n",
       "      <td>Labels</td>\n",
       "      <td>14.6200</td>\n",
       "      <td>2</td>\n",
       "      <td>0.00</td>\n",
       "      <td>6.8714</td>\n",
       "    </tr>\n",
       "    <tr>\n",
       "      <th>3</th>\n",
       "      <td>Standard Class</td>\n",
       "      <td>Consumer</td>\n",
       "      <td>United States</td>\n",
       "      <td>Fort Lauderdale</td>\n",
       "      <td>Florida</td>\n",
       "      <td>33311</td>\n",
       "      <td>South</td>\n",
       "      <td>Furniture</td>\n",
       "      <td>Tables</td>\n",
       "      <td>957.5775</td>\n",
       "      <td>5</td>\n",
       "      <td>0.45</td>\n",
       "      <td>-383.0310</td>\n",
       "    </tr>\n",
       "  </tbody>\n",
       "</table>\n",
       "</div>"
      ],
      "text/plain": [
       "        Ship Mode    Segment        Country             City       State  \\\n",
       "0    Second Class   Consumer  United States        Henderson    Kentucky   \n",
       "1    Second Class   Consumer  United States        Henderson    Kentucky   \n",
       "2    Second Class  Corporate  United States      Los Angeles  California   \n",
       "3  Standard Class   Consumer  United States  Fort Lauderdale     Florida   \n",
       "\n",
       "   Postal Code Region         Category Sub-Category     Sales  Quantity  \\\n",
       "0        42420  South        Furniture    Bookcases  261.9600         2   \n",
       "1        42420  South        Furniture       Chairs  731.9400         3   \n",
       "2        90036   West  Office Supplies       Labels   14.6200         2   \n",
       "3        33311  South        Furniture       Tables  957.5775         5   \n",
       "\n",
       "   Discount    Profit  \n",
       "0      0.00   41.9136  \n",
       "1      0.00  219.5820  \n",
       "2      0.00    6.8714  \n",
       "3      0.45 -383.0310  "
      ]
     },
     "execution_count": 72,
     "metadata": {},
     "output_type": "execute_result"
    }
   ],
   "source": [
    "data = pd.read_csv(\"SampleSuperStore.csv\")\n",
    "data.head(4)"
   ]
  },
  {
   "cell_type": "code",
   "execution_count": 73,
   "id": "0f03eb16",
   "metadata": {},
   "outputs": [
    {
     "data": {
      "text/html": [
       "<div>\n",
       "<style scoped>\n",
       "    .dataframe tbody tr th:only-of-type {\n",
       "        vertical-align: middle;\n",
       "    }\n",
       "\n",
       "    .dataframe tbody tr th {\n",
       "        vertical-align: top;\n",
       "    }\n",
       "\n",
       "    .dataframe thead th {\n",
       "        text-align: right;\n",
       "    }\n",
       "</style>\n",
       "<table border=\"1\" class=\"dataframe\">\n",
       "  <thead>\n",
       "    <tr style=\"text-align: right;\">\n",
       "      <th></th>\n",
       "      <th>Postal Code</th>\n",
       "      <th>Sales</th>\n",
       "      <th>Quantity</th>\n",
       "      <th>Discount</th>\n",
       "      <th>Profit</th>\n",
       "    </tr>\n",
       "  </thead>\n",
       "  <tbody>\n",
       "    <tr>\n",
       "      <th>count</th>\n",
       "      <td>9994.000000</td>\n",
       "      <td>9994.000000</td>\n",
       "      <td>9994.000000</td>\n",
       "      <td>9994.000000</td>\n",
       "      <td>9994.000000</td>\n",
       "    </tr>\n",
       "    <tr>\n",
       "      <th>mean</th>\n",
       "      <td>55190.379428</td>\n",
       "      <td>229.857901</td>\n",
       "      <td>3.789574</td>\n",
       "      <td>0.156203</td>\n",
       "      <td>28.656599</td>\n",
       "    </tr>\n",
       "    <tr>\n",
       "      <th>std</th>\n",
       "      <td>32063.693350</td>\n",
       "      <td>623.245124</td>\n",
       "      <td>2.225110</td>\n",
       "      <td>0.206452</td>\n",
       "      <td>234.260115</td>\n",
       "    </tr>\n",
       "    <tr>\n",
       "      <th>min</th>\n",
       "      <td>1040.000000</td>\n",
       "      <td>0.444000</td>\n",
       "      <td>1.000000</td>\n",
       "      <td>0.000000</td>\n",
       "      <td>-6599.978000</td>\n",
       "    </tr>\n",
       "    <tr>\n",
       "      <th>25%</th>\n",
       "      <td>23223.000000</td>\n",
       "      <td>17.280000</td>\n",
       "      <td>2.000000</td>\n",
       "      <td>0.000000</td>\n",
       "      <td>1.728750</td>\n",
       "    </tr>\n",
       "    <tr>\n",
       "      <th>50%</th>\n",
       "      <td>56430.500000</td>\n",
       "      <td>54.490000</td>\n",
       "      <td>3.000000</td>\n",
       "      <td>0.200000</td>\n",
       "      <td>8.666500</td>\n",
       "    </tr>\n",
       "    <tr>\n",
       "      <th>75%</th>\n",
       "      <td>90008.000000</td>\n",
       "      <td>209.940000</td>\n",
       "      <td>5.000000</td>\n",
       "      <td>0.200000</td>\n",
       "      <td>29.364000</td>\n",
       "    </tr>\n",
       "    <tr>\n",
       "      <th>max</th>\n",
       "      <td>99301.000000</td>\n",
       "      <td>22638.480000</td>\n",
       "      <td>14.000000</td>\n",
       "      <td>0.800000</td>\n",
       "      <td>8399.976000</td>\n",
       "    </tr>\n",
       "  </tbody>\n",
       "</table>\n",
       "</div>"
      ],
      "text/plain": [
       "        Postal Code         Sales     Quantity     Discount       Profit\n",
       "count   9994.000000   9994.000000  9994.000000  9994.000000  9994.000000\n",
       "mean   55190.379428    229.857901     3.789574     0.156203    28.656599\n",
       "std    32063.693350    623.245124     2.225110     0.206452   234.260115\n",
       "min     1040.000000      0.444000     1.000000     0.000000 -6599.978000\n",
       "25%    23223.000000     17.280000     2.000000     0.000000     1.728750\n",
       "50%    56430.500000     54.490000     3.000000     0.200000     8.666500\n",
       "75%    90008.000000    209.940000     5.000000     0.200000    29.364000\n",
       "max    99301.000000  22638.480000    14.000000     0.800000  8399.976000"
      ]
     },
     "execution_count": 73,
     "metadata": {},
     "output_type": "execute_result"
    }
   ],
   "source": [
    "data.describe()"
   ]
  },
  {
   "cell_type": "markdown",
   "id": "9fddece7",
   "metadata": {},
   "source": [
    "**Data Pre-processsing**"
   ]
  },
  {
   "cell_type": "markdown",
   "id": "5a17cc5b",
   "metadata": {},
   "source": [
    "- Removing redundant columns"
   ]
  },
  {
   "cell_type": "code",
   "execution_count": 74,
   "id": "45f3508d",
   "metadata": {},
   "outputs": [
    {
     "data": {
      "text/plain": [
       "United States    9994\n",
       "Name: Country, dtype: int64"
      ]
     },
     "execution_count": 74,
     "metadata": {},
     "output_type": "execute_result"
    }
   ],
   "source": [
    "data.iloc[:,2].value_counts()"
   ]
  },
  {
   "cell_type": "markdown",
   "id": "35899eb4",
   "metadata": {},
   "source": [
    "Entire country columns consists of same values : \"United States\", thus we will drop the Country column since it will not contribute much in EDA"
   ]
  },
  {
   "cell_type": "code",
   "execution_count": 75,
   "id": "105b0650",
   "metadata": {},
   "outputs": [],
   "source": [
    "data.drop(columns={\"Country\"},inplace=True)"
   ]
  },
  {
   "cell_type": "code",
   "execution_count": 76,
   "id": "52f294a7",
   "metadata": {
    "scrolled": false
   },
   "outputs": [
    {
     "data": {
      "text/plain": [
       "Index(['Ship Mode', 'Segment', 'City', 'State', 'Postal Code', 'Region',\n",
       "       'Category', 'Sub-Category', 'Sales', 'Quantity', 'Discount', 'Profit'],\n",
       "      dtype='object')"
      ]
     },
     "execution_count": 76,
     "metadata": {},
     "output_type": "execute_result"
    }
   ],
   "source": [
    "data.columns"
   ]
  },
  {
   "cell_type": "markdown",
   "id": "be24c915",
   "metadata": {},
   "source": [
    "- Adding temporary columns for future use"
   ]
  },
  {
   "cell_type": "code",
   "execution_count": 77,
   "id": "44d60652",
   "metadata": {},
   "outputs": [
    {
     "data": {
      "text/html": [
       "<div>\n",
       "<style scoped>\n",
       "    .dataframe tbody tr th:only-of-type {\n",
       "        vertical-align: middle;\n",
       "    }\n",
       "\n",
       "    .dataframe tbody tr th {\n",
       "        vertical-align: top;\n",
       "    }\n",
       "\n",
       "    .dataframe thead th {\n",
       "        text-align: right;\n",
       "    }\n",
       "</style>\n",
       "<table border=\"1\" class=\"dataframe\">\n",
       "  <thead>\n",
       "    <tr style=\"text-align: right;\">\n",
       "      <th></th>\n",
       "      <th>Ship Mode</th>\n",
       "      <th>Segment</th>\n",
       "      <th>City</th>\n",
       "      <th>State</th>\n",
       "      <th>Postal Code</th>\n",
       "      <th>Region</th>\n",
       "      <th>Category</th>\n",
       "      <th>Sub-Category</th>\n",
       "      <th>Sales</th>\n",
       "      <th>Quantity</th>\n",
       "      <th>Discount</th>\n",
       "      <th>Profit</th>\n",
       "      <th>Status</th>\n",
       "    </tr>\n",
       "  </thead>\n",
       "  <tbody>\n",
       "    <tr>\n",
       "      <th>0</th>\n",
       "      <td>Second Class</td>\n",
       "      <td>Consumer</td>\n",
       "      <td>Henderson</td>\n",
       "      <td>Kentucky</td>\n",
       "      <td>42420</td>\n",
       "      <td>South</td>\n",
       "      <td>Furniture</td>\n",
       "      <td>Bookcases</td>\n",
       "      <td>261.96</td>\n",
       "      <td>2</td>\n",
       "      <td>0.0</td>\n",
       "      <td>41.9136</td>\n",
       "      <td>Profit</td>\n",
       "    </tr>\n",
       "    <tr>\n",
       "      <th>1</th>\n",
       "      <td>Second Class</td>\n",
       "      <td>Consumer</td>\n",
       "      <td>Henderson</td>\n",
       "      <td>Kentucky</td>\n",
       "      <td>42420</td>\n",
       "      <td>South</td>\n",
       "      <td>Furniture</td>\n",
       "      <td>Chairs</td>\n",
       "      <td>731.94</td>\n",
       "      <td>3</td>\n",
       "      <td>0.0</td>\n",
       "      <td>219.5820</td>\n",
       "      <td>Profit</td>\n",
       "    </tr>\n",
       "    <tr>\n",
       "      <th>2</th>\n",
       "      <td>Second Class</td>\n",
       "      <td>Corporate</td>\n",
       "      <td>Los Angeles</td>\n",
       "      <td>California</td>\n",
       "      <td>90036</td>\n",
       "      <td>West</td>\n",
       "      <td>Office Supplies</td>\n",
       "      <td>Labels</td>\n",
       "      <td>14.62</td>\n",
       "      <td>2</td>\n",
       "      <td>0.0</td>\n",
       "      <td>6.8714</td>\n",
       "      <td>Profit</td>\n",
       "    </tr>\n",
       "  </tbody>\n",
       "</table>\n",
       "</div>"
      ],
      "text/plain": [
       "      Ship Mode    Segment         City       State  Postal Code Region  \\\n",
       "0  Second Class   Consumer    Henderson    Kentucky        42420  South   \n",
       "1  Second Class   Consumer    Henderson    Kentucky        42420  South   \n",
       "2  Second Class  Corporate  Los Angeles  California        90036   West   \n",
       "\n",
       "          Category Sub-Category   Sales  Quantity  Discount    Profit  Status  \n",
       "0        Furniture    Bookcases  261.96         2       0.0   41.9136  Profit  \n",
       "1        Furniture       Chairs  731.94         3       0.0  219.5820  Profit  \n",
       "2  Office Supplies       Labels   14.62         2       0.0    6.8714  Profit  "
      ]
     },
     "execution_count": 77,
     "metadata": {},
     "output_type": "execute_result"
    }
   ],
   "source": [
    "data[\"Status\"]=np.where(data[\"Profit\"]>0,\"Profit\",np.where(data[\"Profit\"]<0,\"Loss\",\"B/E\"))\n",
    "data.head(3)"
   ]
  },
  {
   "cell_type": "markdown",
   "id": "9fa33ad5",
   "metadata": {},
   "source": [
    "<u>Data Transformation</u>"
   ]
  },
  {
   "cell_type": "markdown",
   "id": "209862c1",
   "metadata": {},
   "source": [
    "- Scaling continious data"
   ]
  },
  {
   "cell_type": "code",
   "execution_count": 78,
   "id": "03df310f",
   "metadata": {},
   "outputs": [
    {
     "name": "stdout",
     "output_type": "stream",
     "text": [
      "Index(['Sales', 'Quantity', 'Discount'], dtype='object')\n"
     ]
    }
   ],
   "source": [
    "print(data.select_dtypes(include=[\"float64\",\"int64\"]).drop(columns={\"Postal Code\",\"Profit\"}).columns)"
   ]
  },
  {
   "cell_type": "markdown",
   "id": "f154365a",
   "metadata": {},
   "source": [
    "Since Profit column consists of target values, not going to scale it.\n",
    "\n",
    "Scaling the data by setting pipline for consisting of robust scaler and standard scaler"
   ]
  },
  {
   "cell_type": "code",
   "execution_count": 79,
   "id": "bb2322be",
   "metadata": {},
   "outputs": [],
   "source": [
    "pipeline = Pipeline([\n",
    "    (\"robust_scaler\",RobustScaler()),\n",
    "    (\"std_scaler\",StandardScaler())\n",
    "])"
   ]
  },
  {
   "cell_type": "code",
   "execution_count": 80,
   "id": "28e6c9b2",
   "metadata": {},
   "outputs": [
    {
     "data": {
      "text/plain": [
       "Index(['Sales', 'Quantity', 'Discount'], dtype='object')"
      ]
     },
     "execution_count": 80,
     "metadata": {},
     "output_type": "execute_result"
    }
   ],
   "source": [
    "to_be_processed = data.select_dtypes(include=[\"float64\",\"int64\"]).drop(columns={\"Postal Code\",\"Profit\"})\n",
    "to_be_processed.columns"
   ]
  },
  {
   "cell_type": "code",
   "execution_count": 81,
   "id": "0e8a0ef0",
   "metadata": {},
   "outputs": [],
   "source": [
    "for col in to_be_processed.columns:\n",
    "    data[col] = pipeline.fit_transform(np.array(data[col]).reshape(-1,1))\n",
    "    pickle.dump(pipeline,open(f\"{col}pipeline.pkl\",\"wb\"))"
   ]
  },
  {
   "cell_type": "code",
   "execution_count": 82,
   "id": "23080bab",
   "metadata": {},
   "outputs": [
    {
     "data": {
      "text/html": [
       "<div>\n",
       "<style scoped>\n",
       "    .dataframe tbody tr th:only-of-type {\n",
       "        vertical-align: middle;\n",
       "    }\n",
       "\n",
       "    .dataframe tbody tr th {\n",
       "        vertical-align: top;\n",
       "    }\n",
       "\n",
       "    .dataframe thead th {\n",
       "        text-align: right;\n",
       "    }\n",
       "</style>\n",
       "<table border=\"1\" class=\"dataframe\">\n",
       "  <thead>\n",
       "    <tr style=\"text-align: right;\">\n",
       "      <th></th>\n",
       "      <th>Ship Mode</th>\n",
       "      <th>Segment</th>\n",
       "      <th>City</th>\n",
       "      <th>State</th>\n",
       "      <th>Postal Code</th>\n",
       "      <th>Region</th>\n",
       "      <th>Category</th>\n",
       "      <th>Sub-Category</th>\n",
       "      <th>Sales</th>\n",
       "      <th>Quantity</th>\n",
       "      <th>Discount</th>\n",
       "      <th>Profit</th>\n",
       "      <th>Status</th>\n",
       "    </tr>\n",
       "  </thead>\n",
       "  <tbody>\n",
       "    <tr>\n",
       "      <th>0</th>\n",
       "      <td>Second Class</td>\n",
       "      <td>Consumer</td>\n",
       "      <td>Henderson</td>\n",
       "      <td>Kentucky</td>\n",
       "      <td>42420</td>\n",
       "      <td>South</td>\n",
       "      <td>Furniture</td>\n",
       "      <td>Bookcases</td>\n",
       "      <td>0.051511</td>\n",
       "      <td>-0.804303</td>\n",
       "      <td>-0.756643</td>\n",
       "      <td>41.9136</td>\n",
       "      <td>Profit</td>\n",
       "    </tr>\n",
       "    <tr>\n",
       "      <th>1</th>\n",
       "      <td>Second Class</td>\n",
       "      <td>Consumer</td>\n",
       "      <td>Henderson</td>\n",
       "      <td>Kentucky</td>\n",
       "      <td>42420</td>\n",
       "      <td>South</td>\n",
       "      <td>Furniture</td>\n",
       "      <td>Chairs</td>\n",
       "      <td>0.805634</td>\n",
       "      <td>-0.354865</td>\n",
       "      <td>-0.756643</td>\n",
       "      <td>219.5820</td>\n",
       "      <td>Profit</td>\n",
       "    </tr>\n",
       "    <tr>\n",
       "      <th>2</th>\n",
       "      <td>Second Class</td>\n",
       "      <td>Corporate</td>\n",
       "      <td>Los Angeles</td>\n",
       "      <td>California</td>\n",
       "      <td>90036</td>\n",
       "      <td>West</td>\n",
       "      <td>Office Supplies</td>\n",
       "      <td>Labels</td>\n",
       "      <td>-0.345368</td>\n",
       "      <td>-0.804303</td>\n",
       "      <td>-0.756643</td>\n",
       "      <td>6.8714</td>\n",
       "      <td>Profit</td>\n",
       "    </tr>\n",
       "  </tbody>\n",
       "</table>\n",
       "</div>"
      ],
      "text/plain": [
       "      Ship Mode    Segment         City       State  Postal Code Region  \\\n",
       "0  Second Class   Consumer    Henderson    Kentucky        42420  South   \n",
       "1  Second Class   Consumer    Henderson    Kentucky        42420  South   \n",
       "2  Second Class  Corporate  Los Angeles  California        90036   West   \n",
       "\n",
       "          Category Sub-Category     Sales  Quantity  Discount    Profit  \\\n",
       "0        Furniture    Bookcases  0.051511 -0.804303 -0.756643   41.9136   \n",
       "1        Furniture       Chairs  0.805634 -0.354865 -0.756643  219.5820   \n",
       "2  Office Supplies       Labels -0.345368 -0.804303 -0.756643    6.8714   \n",
       "\n",
       "   Status  \n",
       "0  Profit  \n",
       "1  Profit  \n",
       "2  Profit  "
      ]
     },
     "execution_count": 82,
     "metadata": {},
     "output_type": "execute_result"
    }
   ],
   "source": [
    "data.head(3)"
   ]
  },
  {
   "cell_type": "markdown",
   "id": "c70648e5",
   "metadata": {},
   "source": [
    "- Encoding categorical data to numeric data"
   ]
  },
  {
   "cell_type": "code",
   "execution_count": 83,
   "id": "fc4594fd",
   "metadata": {
    "scrolled": false
   },
   "outputs": [
    {
     "data": {
      "text/html": [
       "<div>\n",
       "<style scoped>\n",
       "    .dataframe tbody tr th:only-of-type {\n",
       "        vertical-align: middle;\n",
       "    }\n",
       "\n",
       "    .dataframe tbody tr th {\n",
       "        vertical-align: top;\n",
       "    }\n",
       "\n",
       "    .dataframe thead th {\n",
       "        text-align: right;\n",
       "    }\n",
       "</style>\n",
       "<table border=\"1\" class=\"dataframe\">\n",
       "  <thead>\n",
       "    <tr style=\"text-align: right;\">\n",
       "      <th></th>\n",
       "      <th>Ship Mode</th>\n",
       "      <th>Segment</th>\n",
       "      <th>City</th>\n",
       "      <th>State</th>\n",
       "      <th>Postal Code</th>\n",
       "      <th>Region</th>\n",
       "      <th>Category</th>\n",
       "      <th>Sub-Category</th>\n",
       "      <th>Sales</th>\n",
       "      <th>Quantity</th>\n",
       "      <th>Discount</th>\n",
       "      <th>Profit</th>\n",
       "      <th>Status</th>\n",
       "    </tr>\n",
       "  </thead>\n",
       "  <tbody>\n",
       "    <tr>\n",
       "      <th>0</th>\n",
       "      <td>2</td>\n",
       "      <td>0</td>\n",
       "      <td>194</td>\n",
       "      <td>15</td>\n",
       "      <td>42420</td>\n",
       "      <td>2</td>\n",
       "      <td>0</td>\n",
       "      <td>4</td>\n",
       "      <td>0.051511</td>\n",
       "      <td>-0.804303</td>\n",
       "      <td>-0.756643</td>\n",
       "      <td>41.9136</td>\n",
       "      <td>Profit</td>\n",
       "    </tr>\n",
       "    <tr>\n",
       "      <th>1</th>\n",
       "      <td>2</td>\n",
       "      <td>0</td>\n",
       "      <td>194</td>\n",
       "      <td>15</td>\n",
       "      <td>42420</td>\n",
       "      <td>2</td>\n",
       "      <td>0</td>\n",
       "      <td>5</td>\n",
       "      <td>0.805634</td>\n",
       "      <td>-0.354865</td>\n",
       "      <td>-0.756643</td>\n",
       "      <td>219.5820</td>\n",
       "      <td>Profit</td>\n",
       "    </tr>\n",
       "    <tr>\n",
       "      <th>2</th>\n",
       "      <td>2</td>\n",
       "      <td>1</td>\n",
       "      <td>266</td>\n",
       "      <td>3</td>\n",
       "      <td>90036</td>\n",
       "      <td>3</td>\n",
       "      <td>1</td>\n",
       "      <td>10</td>\n",
       "      <td>-0.345368</td>\n",
       "      <td>-0.804303</td>\n",
       "      <td>-0.756643</td>\n",
       "      <td>6.8714</td>\n",
       "      <td>Profit</td>\n",
       "    </tr>\n",
       "  </tbody>\n",
       "</table>\n",
       "</div>"
      ],
      "text/plain": [
       "   Ship Mode  Segment  City  State  Postal Code  Region  Category  \\\n",
       "0          2        0   194     15        42420       2         0   \n",
       "1          2        0   194     15        42420       2         0   \n",
       "2          2        1   266      3        90036       3         1   \n",
       "\n",
       "   Sub-Category     Sales  Quantity  Discount    Profit  Status  \n",
       "0             4  0.051511 -0.804303 -0.756643   41.9136  Profit  \n",
       "1             5  0.805634 -0.354865 -0.756643  219.5820  Profit  \n",
       "2            10 -0.345368 -0.804303 -0.756643    6.8714  Profit  "
      ]
     },
     "execution_count": 83,
     "metadata": {},
     "output_type": "execute_result"
    }
   ],
   "source": [
    "le = LabelEncoder()\n",
    "for col in data.select_dtypes(include=\"object\").drop(columns={\"Status\"}).columns:\n",
    "    data[col] = le.fit_transform(data[col])\n",
    "    pickle.dump(le,open(f\"{col}encoder.pkl\",\"wb\"))\n",
    "data.head(3)"
   ]
  },
  {
   "cell_type": "markdown",
   "id": "98764b95",
   "metadata": {},
   "source": [
    "- Temporary Features and Labels"
   ]
  },
  {
   "cell_type": "code",
   "execution_count": 14,
   "id": "3488b6f4",
   "metadata": {},
   "outputs": [
    {
     "data": {
      "text/plain": [
       "((9994, 12), (9994,))"
      ]
     },
     "execution_count": 14,
     "metadata": {},
     "output_type": "execute_result"
    }
   ],
   "source": [
    "Xt = data.drop(columns={\"Status\"})\n",
    "yt = data[\"Status\"]\n",
    "\n",
    "Xt.shape,yt.shape"
   ]
  },
  {
   "cell_type": "markdown",
   "id": "39e86ffc",
   "metadata": {},
   "source": [
    "<u>Data Balancing</u>"
   ]
  },
  {
   "cell_type": "code",
   "execution_count": 15,
   "id": "fb169160",
   "metadata": {},
   "outputs": [
    {
     "data": {
      "text/plain": [
       "SMOTETomek(random_state=10)"
      ]
     },
     "execution_count": 15,
     "metadata": {},
     "output_type": "execute_result"
    }
   ],
   "source": [
    "smt = SMOTETomek(random_state=10)\n",
    "smt"
   ]
  },
  {
   "cell_type": "code",
   "execution_count": 16,
   "id": "f0867507",
   "metadata": {},
   "outputs": [],
   "source": [
    "X_res,y_res = smt.fit_resample(Xt,yt)"
   ]
  },
  {
   "cell_type": "code",
   "execution_count": 17,
   "id": "b6fe93eb",
   "metadata": {},
   "outputs": [
    {
     "data": {
      "text/plain": [
       "((24100, 12), (24100,))"
      ]
     },
     "execution_count": 17,
     "metadata": {},
     "output_type": "execute_result"
    }
   ],
   "source": [
    "X_res.shape,y_res.shape"
   ]
  },
  {
   "cell_type": "code",
   "execution_count": 18,
   "id": "4e77f5dd",
   "metadata": {},
   "outputs": [
    {
     "data": {
      "image/png": "[encoded data removed]",
      "text/plain": [
       "<Figure size 720x288 with 2 Axes>"
      ]
     },
     "metadata": {},
     "output_type": "display_data"
    }
   ],
   "source": [
    "sns.set_style(\"darkgrid\")\n",
    "plt.figure(figsize=(10,4))\n",
    "plt.subplot(1,2,1)\n",
    "plt.bar(yt.value_counts(normalize=True).index,\n",
    "        yt.value_counts(normalize=True).values,\n",
    "       color=[\"#4A4A4A\",\"#838383\",\"#ADACAC\"])\n",
    "plt.title(\"Before balancing\")\n",
    "\n",
    "plt.subplot(1,2,2)\n",
    "plt.bar(y_res.value_counts(normalize=True).index,\n",
    "        y_res.value_counts(normalize=True).values,\n",
    "       color=[\"#838383\",\"#838383\",\"#838383\"])\n",
    "plt.title(\"After balancing\")\n",
    "\n",
    "plt.tight_layout(pad=4)\n",
    "plt.show()"
   ]
  },
  {
   "cell_type": "markdown",
   "id": "abfe6881",
   "metadata": {},
   "source": [
    "<u>Features and labels</u>"
   ]
  },
  {
   "cell_type": "code",
   "execution_count": 19,
   "id": "cbbeafcc",
   "metadata": {},
   "outputs": [
    {
     "data": {
      "text/plain": [
       "((24100, 11), (24100,))"
      ]
     },
     "execution_count": 19,
     "metadata": {},
     "output_type": "execute_result"
    }
   ],
   "source": [
    "#Features\n",
    "X = X_res.drop(columns={\"Profit\"})\n",
    "\n",
    "#labels\n",
    "y = X_res[\"Profit\"]\n",
    "\n",
    "X.shape,y.shape"
   ]
  },
  {
   "cell_type": "markdown",
   "id": "adab3471",
   "metadata": {},
   "source": [
    "<u>Splitting Data</u>\n",
    "- Splitting the data into training data and testing data"
   ]
  },
  {
   "cell_type": "code",
   "execution_count": 20,
   "id": "98c7e399",
   "metadata": {},
   "outputs": [],
   "source": [
    "X_train,X_test,y_train,y_test = train_test_split(X,y,test_size=0.3,shuffle=True,random_state=10)"
   ]
  },
  {
   "cell_type": "markdown",
   "id": "6b356858",
   "metadata": {},
   "source": [
    "<u> Model Selection </u>\n",
    "- Selecting regression model "
   ]
  },
  {
   "cell_type": "markdown",
   "id": "6a3bd5ad",
   "metadata": {},
   "source": [
    "*Linear Regression ,Lasso Regression ,Ridge Regression model*"
   ]
  },
  {
   "cell_type": "markdown",
   "id": "0f284eac",
   "metadata": {},
   "source": [
    "- Linear Regression model"
   ]
  },
  {
   "cell_type": "code",
   "execution_count": 21,
   "id": "0a7d5a69",
   "metadata": {},
   "outputs": [
    {
     "data": {
      "text/plain": [
       "LinearRegression()"
      ]
     },
     "execution_count": 21,
     "metadata": {},
     "output_type": "execute_result"
    }
   ],
   "source": [
    "linearR_model = LinearRegression()\n",
    "linearR_model.fit(X_train,y_train)"
   ]
  },
  {
   "cell_type": "code",
   "execution_count": 22,
   "id": "d4f79acc",
   "metadata": {},
   "outputs": [
    {
     "data": {
      "text/plain": [
       "58.567654546235815"
      ]
     },
     "execution_count": 22,
     "metadata": {},
     "output_type": "execute_result"
    }
   ],
   "source": [
    "y_pred = linearR_model.predict(X_test)\n",
    "mean_absolute_error(y_test, y_pred)"
   ]
  },
  {
   "cell_type": "markdown",
   "id": "3eb657c5",
   "metadata": {},
   "source": [
    "- Lasso Regression model"
   ]
  },
  {
   "cell_type": "code",
   "execution_count": 23,
   "id": "2790b4fb",
   "metadata": {},
   "outputs": [
    {
     "data": {
      "text/plain": [
       "{'alpha': 1}"
      ]
     },
     "execution_count": 23,
     "metadata": {},
     "output_type": "execute_result"
    }
   ],
   "source": [
    "x = Lasso()\n",
    "lasso_param_grid = {\"alpha\":[1,2,3,4]}\n",
    "gs = GridSearchCV(x,param_grid=lasso_param_grid,cv=5)\n",
    "gs.fit(X_train,y_train)\n",
    "gs.best_params_"
   ]
  },
  {
   "cell_type": "code",
   "execution_count": 24,
   "id": "44e57b93",
   "metadata": {},
   "outputs": [],
   "source": [
    "lassoR_model = gs.best_estimator_"
   ]
  },
  {
   "cell_type": "code",
   "execution_count": 25,
   "id": "a52b8fc1",
   "metadata": {},
   "outputs": [
    {
     "data": {
      "text/plain": [
       "57.66390646761623"
      ]
     },
     "execution_count": 25,
     "metadata": {},
     "output_type": "execute_result"
    }
   ],
   "source": [
    "y_pred = lassoR_model.predict(X_test)\n",
    "mean_absolute_error(y_test, y_pred)"
   ]
  },
  {
   "cell_type": "markdown",
   "id": "c01df066",
   "metadata": {},
   "source": [
    "- Ridge Regression model"
   ]
  },
  {
   "cell_type": "code",
   "execution_count": 26,
   "id": "59181472",
   "metadata": {},
   "outputs": [
    {
     "data": {
      "text/plain": [
       "{'alpha': 5}"
      ]
     },
     "execution_count": 26,
     "metadata": {},
     "output_type": "execute_result"
    }
   ],
   "source": [
    "x = Ridge()\n",
    "lasso_param_grid = {\"alpha\":range(6)}\n",
    "gs = GridSearchCV(x,param_grid=lasso_param_grid,cv=5)\n",
    "gs.fit(X_train,y_train)\n",
    "gs.best_params_"
   ]
  },
  {
   "cell_type": "code",
   "execution_count": 27,
   "id": "8c4bc1a2",
   "metadata": {},
   "outputs": [],
   "source": [
    "ridgeR_model = gs.best_estimator_"
   ]
  },
  {
   "cell_type": "code",
   "execution_count": 28,
   "id": "e3eecc5f",
   "metadata": {},
   "outputs": [],
   "source": [
    "y_pred = ridgeR_model.predict(X_test)"
   ]
  },
  {
   "cell_type": "code",
   "execution_count": 29,
   "id": "b8ee3b18",
   "metadata": {},
   "outputs": [
    {
     "data": {
      "text/plain": [
       "58.55864245734407"
      ]
     },
     "execution_count": 29,
     "metadata": {},
     "output_type": "execute_result"
    }
   ],
   "source": [
    " mean_absolute_error(y_test, y_pred)"
   ]
  },
  {
   "cell_type": "markdown",
   "id": "fad0b6b8",
   "metadata": {},
   "source": [
    "*KNN model*"
   ]
  },
  {
   "cell_type": "code",
   "execution_count": 30,
   "id": "28e82967",
   "metadata": {},
   "outputs": [
    {
     "data": {
      "text/plain": [
       "{'metric': 'cosine', 'n_neighbors': 2}"
      ]
     },
     "execution_count": 30,
     "metadata": {},
     "output_type": "execute_result"
    }
   ],
   "source": [
    "x = KNeighborsRegressor()\n",
    "knn_param_grid={\"n_neighbors\":range(2,8),\n",
    "              \"metric\":[\"manhattan\",\"euclidean\",\"minkowski\",\"cosine\"]}\n",
    "gs = GridSearchCV(x,param_grid=knn_param_grid,cv=5)\n",
    "gs.fit(X_train,y_train)\n",
    "gs.best_params_"
   ]
  },
  {
   "cell_type": "code",
   "execution_count": 31,
   "id": "80eee42d",
   "metadata": {},
   "outputs": [],
   "source": [
    "knn_model = gs.best_estimator_"
   ]
  },
  {
   "cell_type": "code",
   "execution_count": 32,
   "id": "8fbcfb6d",
   "metadata": {},
   "outputs": [],
   "source": [
    "y_pred = knn_model.predict(X_test)"
   ]
  },
  {
   "cell_type": "code",
   "execution_count": 33,
   "id": "80045ed4",
   "metadata": {},
   "outputs": [
    {
     "data": {
      "text/plain": [
       "34.431722519427055"
      ]
     },
     "execution_count": 33,
     "metadata": {},
     "output_type": "execute_result"
    }
   ],
   "source": [
    " mean_absolute_error(y_test, y_pred)"
   ]
  },
  {
   "cell_type": "markdown",
   "id": "2d958a81",
   "metadata": {},
   "source": [
    "*SVM model*"
   ]
  },
  {
   "cell_type": "code",
   "execution_count": 34,
   "id": "a2e9fcf2",
   "metadata": {},
   "outputs": [],
   "source": [
    "# x = SVR()\n",
    "# svr_param_grid = {\"C\":range(1,20,3),\n",
    "#                  \"kernel\":[\"rbf\",\"linear\",\"poly\",\"sigmoid\"]}\n",
    "# gs = GridSearchCV(x,param_grid=svr_param_grid,cv=5)\n",
    "# gs.fit(X_train,y_train)\n",
    "# gs.best_params_"
   ]
  },
  {
   "cell_type": "code",
   "execution_count": 35,
   "id": "f391ff27",
   "metadata": {},
   "outputs": [],
   "source": [
    "# svm_model = gs.best_estimator_"
   ]
  },
  {
   "cell_type": "markdown",
   "id": "3fef6d9a",
   "metadata": {},
   "source": [
    "Reason : SVR Taking too much time"
   ]
  },
  {
   "cell_type": "markdown",
   "id": "0bd3b880",
   "metadata": {},
   "source": [
    "*Random Forest Model*"
   ]
  },
  {
   "cell_type": "code",
   "execution_count": 36,
   "id": "a0aa1ee4",
   "metadata": {},
   "outputs": [
    {
     "data": {
      "text/plain": [
       "{'n_estimators': 10,\n",
       " 'min_samples_split': 4,\n",
       " 'min_samples_leaf': 1,\n",
       " 'max_samples': 10000,\n",
       " 'max_features': 4,\n",
       " 'max_depth': None}"
      ]
     },
     "execution_count": 36,
     "metadata": {},
     "output_type": "execute_result"
    }
   ],
   "source": [
    "x = RandomForestRegressor()\n",
    "rfr_param_grid = {\"n_estimators\":np.arange(10,100,10),\n",
    "                  \"max_depth\":[None,3,5,10],\n",
    "                  \"min_samples_split\":np.arange(2,20,2),\n",
    "                  \"min_samples_leaf\":np.arange(1,20,2),\n",
    "                  \"max_features\":range(2,10,2),\n",
    "                  \"max_samples\":[10000]}\n",
    "rs = RandomizedSearchCV(x,param_distributions=rfr_param_grid,n_iter=15,cv=5)\n",
    "rs.fit(X_train,y_train)\n",
    "rs.best_params_"
   ]
  },
  {
   "cell_type": "code",
   "execution_count": 37,
   "id": "7d00f711",
   "metadata": {},
   "outputs": [],
   "source": [
    "rfr_model = rs.best_estimator_"
   ]
  },
  {
   "cell_type": "code",
   "execution_count": 38,
   "id": "8cf9aeab",
   "metadata": {},
   "outputs": [],
   "source": [
    "y_pred = rfr_model.predict(X_test)"
   ]
  },
  {
   "cell_type": "code",
   "execution_count": 39,
   "id": "1a0cc4a8",
   "metadata": {},
   "outputs": [
    {
     "data": {
      "text/plain": [
       "20.862397645473308"
      ]
     },
     "execution_count": 39,
     "metadata": {},
     "output_type": "execute_result"
    }
   ],
   "source": [
    " mean_absolute_error(y_test, y_pred)"
   ]
  },
  {
   "cell_type": "markdown",
   "id": "431c2edc",
   "metadata": {},
   "source": [
    "*Gradient Boosting Model*"
   ]
  },
  {
   "cell_type": "code",
   "execution_count": 40,
   "id": "6af73828",
   "metadata": {},
   "outputs": [
    {
     "data": {
      "text/plain": [
       "{'n_estimators': 90,\n",
       " 'min_samples_leaf': 19,\n",
       " 'max_features': 6,\n",
       " 'max_depth': None,\n",
       " 'learning_rate': 0.1}"
      ]
     },
     "execution_count": 40,
     "metadata": {},
     "output_type": "execute_result"
    }
   ],
   "source": [
    "x = GradientBoostingRegressor()\n",
    "gbr_param_grid = {\"n_estimators\":np.arange(10,100,10),\n",
    "                  \"learning_rate\":[0.1,0.05,0.02],\n",
    "                  \"min_samples_leaf\":np.arange(1,20,2),\n",
    "                  \"max_depth\":[1,2,3,None],\n",
    "                  \"max_features\":range(2,10,2)}\n",
    "rs = RandomizedSearchCV(x,param_distributions=gbr_param_grid,n_iter=15,cv=5)\n",
    "rs.fit(X_train,y_train)\n",
    "rs.best_params_"
   ]
  },
  {
   "cell_type": "code",
   "execution_count": 41,
   "id": "d4769809",
   "metadata": {},
   "outputs": [],
   "source": [
    "gbr_model = rs.best_estimator_"
   ]
  },
  {
   "cell_type": "code",
   "execution_count": 42,
   "id": "849cb214",
   "metadata": {},
   "outputs": [],
   "source": [
    "y_pred = gbr_model.predict(X_test)"
   ]
  },
  {
   "cell_type": "code",
   "execution_count": 43,
   "id": "6cd3e7c0",
   "metadata": {},
   "outputs": [
    {
     "data": {
      "text/plain": [
       "15.628098815043424"
      ]
     },
     "execution_count": 43,
     "metadata": {},
     "output_type": "execute_result"
    }
   ],
   "source": [
    " mean_absolute_error(y_test, y_pred)"
   ]
  },
  {
   "cell_type": "markdown",
   "id": "601246a7",
   "metadata": {},
   "source": [
    "*Voting Regressor*\n",
    "\n",
    "Voting Classifier is a machine learning model that trains on an ensemble of numerous models and predicts an output (class) based on their highest probability of chosen class as the output."
   ]
  },
  {
   "cell_type": "code",
   "execution_count": 44,
   "id": "5a2e468b",
   "metadata": {},
   "outputs": [
    {
     "data": {
      "text/plain": [
       "[('Linear_R', LinearRegression()),\n",
       " ('Lasso_R', Lasso(alpha=1)),\n",
       " ('Ridge_R', Ridge(alpha=5)),\n",
       " ('KNN', KNeighborsRegressor(metric='cosine', n_neighbors=2)),\n",
       " ('RF',\n",
       "  RandomForestRegressor(max_features=4, max_samples=10000, min_samples_split=4,\n",
       "                        n_estimators=10)),\n",
       " ('GB',\n",
       "  GradientBoostingRegressor(max_depth=None, max_features=6, min_samples_leaf=19,\n",
       "                            n_estimators=90))]"
      ]
     },
     "execution_count": 44,
     "metadata": {},
     "output_type": "execute_result"
    }
   ],
   "source": [
    "estimator = []\n",
    "classifiers,models = [\"Linear_R\",\"Lasso_R\",\"Ridge_R\",\"KNN\",\"RF\",\"GB\"],\\\n",
    "[linearR_model,lassoR_model,ridgeR_model,knn_model,rfr_model,gbr_model] \n",
    "for i,j in zip(classifiers,models):\n",
    "    estimator.append((i,j))\n",
    "estimator"
   ]
  },
  {
   "cell_type": "code",
   "execution_count": 45,
   "id": "aa4fd2c6",
   "metadata": {},
   "outputs": [
    {
     "data": {
      "text/plain": [
       "VotingRegressor(estimators=[('Linear_R', LinearRegression()),\n",
       "                            ('Lasso_R', Lasso(alpha=1)),\n",
       "                            ('Ridge_R', Ridge(alpha=5)),\n",
       "                            ('KNN',\n",
       "                             KNeighborsRegressor(metric='cosine',\n",
       "                                                 n_neighbors=2)),\n",
       "                            ('RF',\n",
       "                             RandomForestRegressor(max_features=4,\n",
       "                                                   max_samples=10000,\n",
       "                                                   min_samples_split=4,\n",
       "                                                   n_estimators=10)),\n",
       "                            ('GB',\n",
       "                             GradientBoostingRegressor(max_depth=None,\n",
       "                                                       max_features=6,\n",
       "                                                       min_samples_leaf=19,\n",
       "                                                       n_estimators=90))])"
      ]
     },
     "execution_count": 45,
     "metadata": {},
     "output_type": "execute_result"
    }
   ],
   "source": [
    "model = VotingRegressor(estimators=estimator)\n",
    "model.fit(X_train,y_train)"
   ]
  },
  {
   "cell_type": "code",
   "execution_count": 46,
   "id": "f46a2278",
   "metadata": {},
   "outputs": [],
   "source": [
    "y_pred = model.predict(X_test)"
   ]
  },
  {
   "cell_type": "code",
   "execution_count": 47,
   "id": "37845103",
   "metadata": {},
   "outputs": [
    {
     "data": {
      "text/plain": [
       "36.98213041659113"
      ]
     },
     "execution_count": 47,
     "metadata": {},
     "output_type": "execute_result"
    }
   ],
   "source": [
    " mean_absolute_error(y_test, y_pred)"
   ]
  },
  {
   "cell_type": "markdown",
   "id": "b8706701",
   "metadata": {},
   "source": [
    "<u> Model Validation </u>\n",
    "\n",
    "- Applying Stratified KFold"
   ]
  },
  {
   "cell_type": "code",
   "execution_count": 48,
   "id": "6bd8b1d7",
   "metadata": {},
   "outputs": [
    {
     "name": "stdout",
     "output_type": "stream",
     "text": [
      "Model Error :  14.009766427001578\n"
     ]
    }
   ],
   "source": [
    "kfold = KFold(n_splits=15,shuffle=True,random_state=11)\n",
    "errors = []\n",
    "for train_index,test_index in kfold.split(X,y):\n",
    "    X_train,X_test = X.iloc[train_index,:],X.iloc[test_index,:]\n",
    "    y_train,y_test = y.iloc[train_index],y.iloc[test_index]\n",
    "    gbr_model.fit(X_train,y_train)\n",
    "    pred_values = gbr_model.predict(X_test)\n",
    "    errors.append(mean_absolute_error(y_test,pred_values))\n",
    "print(\"Model Error : \",np.array(errors).mean())"
   ]
  },
  {
   "cell_type": "code",
   "execution_count": 49,
   "id": "5704f419",
   "metadata": {},
   "outputs": [
    {
     "data": {
      "text/html": [
       "<div>\n",
       "<style scoped>\n",
       "    .dataframe tbody tr th:only-of-type {\n",
       "        vertical-align: middle;\n",
       "    }\n",
       "\n",
       "    .dataframe tbody tr th {\n",
       "        vertical-align: top;\n",
       "    }\n",
       "\n",
       "    .dataframe thead th {\n",
       "        text-align: right;\n",
       "    }\n",
       "</style>\n",
       "<table border=\"1\" class=\"dataframe\">\n",
       "  <thead>\n",
       "    <tr style=\"text-align: right;\">\n",
       "      <th></th>\n",
       "      <th>Split number</th>\n",
       "      <th>Error</th>\n",
       "    </tr>\n",
       "  </thead>\n",
       "  <tbody>\n",
       "    <tr>\n",
       "      <th>0</th>\n",
       "      <td>1</td>\n",
       "      <td>17.397596</td>\n",
       "    </tr>\n",
       "    <tr>\n",
       "      <th>1</th>\n",
       "      <td>2</td>\n",
       "      <td>14.276215</td>\n",
       "    </tr>\n",
       "    <tr>\n",
       "      <th>2</th>\n",
       "      <td>3</td>\n",
       "      <td>11.457554</td>\n",
       "    </tr>\n",
       "    <tr>\n",
       "      <th>3</th>\n",
       "      <td>4</td>\n",
       "      <td>15.875514</td>\n",
       "    </tr>\n",
       "    <tr>\n",
       "      <th>4</th>\n",
       "      <td>5</td>\n",
       "      <td>11.516658</td>\n",
       "    </tr>\n",
       "    <tr>\n",
       "      <th>5</th>\n",
       "      <td>6</td>\n",
       "      <td>13.835162</td>\n",
       "    </tr>\n",
       "    <tr>\n",
       "      <th>6</th>\n",
       "      <td>7</td>\n",
       "      <td>17.497901</td>\n",
       "    </tr>\n",
       "    <tr>\n",
       "      <th>7</th>\n",
       "      <td>8</td>\n",
       "      <td>14.031166</td>\n",
       "    </tr>\n",
       "    <tr>\n",
       "      <th>8</th>\n",
       "      <td>9</td>\n",
       "      <td>14.403209</td>\n",
       "    </tr>\n",
       "    <tr>\n",
       "      <th>9</th>\n",
       "      <td>10</td>\n",
       "      <td>11.105263</td>\n",
       "    </tr>\n",
       "    <tr>\n",
       "      <th>10</th>\n",
       "      <td>11</td>\n",
       "      <td>12.791343</td>\n",
       "    </tr>\n",
       "    <tr>\n",
       "      <th>11</th>\n",
       "      <td>12</td>\n",
       "      <td>13.817459</td>\n",
       "    </tr>\n",
       "    <tr>\n",
       "      <th>12</th>\n",
       "      <td>13</td>\n",
       "      <td>15.235839</td>\n",
       "    </tr>\n",
       "    <tr>\n",
       "      <th>13</th>\n",
       "      <td>14</td>\n",
       "      <td>12.789937</td>\n",
       "    </tr>\n",
       "    <tr>\n",
       "      <th>14</th>\n",
       "      <td>15</td>\n",
       "      <td>14.115681</td>\n",
       "    </tr>\n",
       "  </tbody>\n",
       "</table>\n",
       "</div>"
      ],
      "text/plain": [
       "    Split number      Error\n",
       "0              1  17.397596\n",
       "1              2  14.276215\n",
       "2              3  11.457554\n",
       "3              4  15.875514\n",
       "4              5  11.516658\n",
       "5              6  13.835162\n",
       "6              7  17.497901\n",
       "7              8  14.031166\n",
       "8              9  14.403209\n",
       "9             10  11.105263\n",
       "10            11  12.791343\n",
       "11            12  13.817459\n",
       "12            13  15.235839\n",
       "13            14  12.789937\n",
       "14            15  14.115681"
      ]
     },
     "execution_count": 49,
     "metadata": {},
     "output_type": "execute_result"
    }
   ],
   "source": [
    "pd.DataFrame({\"Split number\":range(1,16),\"Error\":errors})"
   ]
  },
  {
   "cell_type": "markdown",
   "id": "a384ee55",
   "metadata": {},
   "source": [
    "<u>Feature selection</u>\n",
    "- Checking model score before and after selecting 4 to 11 best features\n",
    "- Best parameters for max features for random forest classifier and gradient boost classifier are 2, 4 respectively\n",
    "- Thus we can not select features less than 4"
   ]
  },
  {
   "cell_type": "code",
   "execution_count": 50,
   "id": "8401f515",
   "metadata": {},
   "outputs": [],
   "source": [
    "test_errors,train_errors = [],[]\n",
    "for i in range(8,len(X.columns)+1):\n",
    "    X_new = SelectKBest(f_regression, k=i).fit_transform(X, y)\n",
    "    X_train,X_test,y_train,y_test = train_test_split(X_new,y,test_size=0.3,shuffle=True,random_state=10)\n",
    "    m1 = gbr_model.fit(X_train,y_train)\n",
    "    train_pred = gbr_model.predict(X_train)\n",
    "    test_pred = gbr_model.predict(X_test)\n",
    "    train_errors.append(mean_absolute_error(y_train,train_pred))\n",
    "    test_errors.append(mean_absolute_error(y_test,test_pred))"
   ]
  },
  {
   "cell_type": "code",
   "execution_count": 51,
   "id": "7ac17a4b",
   "metadata": {},
   "outputs": [
    {
     "data": {
      "text/html": [
       "<div>\n",
       "<style scoped>\n",
       "    .dataframe tbody tr th:only-of-type {\n",
       "        vertical-align: middle;\n",
       "    }\n",
       "\n",
       "    .dataframe tbody tr th {\n",
       "        vertical-align: top;\n",
       "    }\n",
       "\n",
       "    .dataframe thead th {\n",
       "        text-align: right;\n",
       "    }\n",
       "</style>\n",
       "<table border=\"1\" class=\"dataframe\">\n",
       "  <thead>\n",
       "    <tr style=\"text-align: right;\">\n",
       "      <th></th>\n",
       "      <th>Total Features</th>\n",
       "      <th>Train Errors</th>\n",
       "      <th>Test Errors</th>\n",
       "      <th>Feature Selection</th>\n",
       "    </tr>\n",
       "  </thead>\n",
       "  <tbody>\n",
       "    <tr>\n",
       "      <th>3</th>\n",
       "      <td>11</td>\n",
       "      <td>7.020971</td>\n",
       "      <td>15.693676</td>\n",
       "      <td>No</td>\n",
       "    </tr>\n",
       "    <tr>\n",
       "      <th>2</th>\n",
       "      <td>10</td>\n",
       "      <td>7.615703</td>\n",
       "      <td>15.670875</td>\n",
       "      <td>Yes</td>\n",
       "    </tr>\n",
       "    <tr>\n",
       "      <th>1</th>\n",
       "      <td>9</td>\n",
       "      <td>8.039652</td>\n",
       "      <td>16.179504</td>\n",
       "      <td>Yes</td>\n",
       "    </tr>\n",
       "    <tr>\n",
       "      <th>0</th>\n",
       "      <td>8</td>\n",
       "      <td>8.473966</td>\n",
       "      <td>16.606209</td>\n",
       "      <td>Yes</td>\n",
       "    </tr>\n",
       "  </tbody>\n",
       "</table>\n",
       "</div>"
      ],
      "text/plain": [
       "   Total Features  Train Errors  Test Errors Feature Selection\n",
       "3              11      7.020971    15.693676                No\n",
       "2              10      7.615703    15.670875               Yes\n",
       "1               9      8.039652    16.179504               Yes\n",
       "0               8      8.473966    16.606209               Yes"
      ]
     },
     "execution_count": 51,
     "metadata": {},
     "output_type": "execute_result"
    }
   ],
   "source": [
    "feature_selection = pd.DataFrame({\n",
    "    \"Total Features\":range(8,len(X.columns)+1),\n",
    "    \"Train Errors\":train_errors,\n",
    "    \"Test Errors\":test_errors,\n",
    "    \"Feature Selection\":[\"Yes\"]*4\n",
    "})\n",
    "feature_selection.loc[(feature_selection[\"Total Features\"]==11),\"Feature Selection\"]=\"No\"\n",
    "feature_selection.nsmallest(11,columns=[\"Train Errors\",\"Test Errors\"])"
   ]
  },
  {
   "cell_type": "markdown",
   "id": "3912b951",
   "metadata": {},
   "source": [
    "<u>Final Model</u>"
   ]
  },
  {
   "cell_type": "markdown",
   "id": "bc30219a",
   "metadata": {},
   "source": [
    "- Gradient Boosting Regressor is the best model as it gives minimum error and no need for feature selection as all the features provide with the best performance"
   ]
  },
  {
   "cell_type": "code",
   "execution_count": 52,
   "id": "6fb20704",
   "metadata": {},
   "outputs": [
    {
     "data": {
      "text/plain": [
       "GradientBoostingRegressor(max_depth=None, max_features=6, min_samples_leaf=19,\n",
       "                          n_estimators=90)"
      ]
     },
     "execution_count": 52,
     "metadata": {},
     "output_type": "execute_result"
    }
   ],
   "source": [
    "final_model = gbr_model\n",
    "final_model"
   ]
  },
  {
   "cell_type": "markdown",
   "id": "bf96be04",
   "metadata": {},
   "source": [
    "<u>Pickling model and other objects</u>"
   ]
  },
  {
   "cell_type": "code",
   "execution_count": 53,
   "id": "4d0f789e",
   "metadata": {},
   "outputs": [],
   "source": [
    "pickle.dump(final_model,open(\"final_model.pkl\",\"wb\"))"
   ]
  },
  {
   "cell_type": "code",
   "execution_count": null,
   "id": "f13bae32",
   "metadata": {},
   "outputs": [],
   "source": []
  }
 ],
 "metadata": {
  "kernelspec": {
   "display_name": "Python 3 (ipykernel)",
   "language": "python",
   "name": "python3"
  },
  "language_info": {
   "codemirror_mode": {
    "name": "ipython",
    "version": 3
   },
   "file_extension": ".py",
   "mimetype": "text/x-python",
   "name": "python",
   "nbconvert_exporter": "python",
   "pygments_lexer": "ipython3",
   "version": "3.10.0"
  }
 },
 "nbformat": 4,
 "nbformat_minor": 5
}
