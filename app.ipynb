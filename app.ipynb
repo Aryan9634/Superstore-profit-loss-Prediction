{
 "cells": [
  {
   "cell_type": "code",
   "execution_count": 1,
   "id": "b7de670b",
   "metadata": {},
   "outputs": [],
   "source": [
    "import numpy as np\n",
    "import pandas as pd\n",
    "import pickle\n",
    "import warnings \n",
    "warnings.filterwarnings(\"ignore\")\n",
    "from flask import Flask, request, jsonify, render_template"
   ]
  },
  {
   "cell_type": "code",
   "execution_count": 2,
   "id": "53fcd9bc",
   "metadata": {},
   "outputs": [],
   "source": [
    "#LabelEncoders\n",
    "shipModeenc = pickle.load(open(\"Ship Modeencoder.pkl\",\"rb\"))\n",
    "segenc = pickle.load(open(\"Segmentencoder.pkl\",\"rb\"))\n",
    "cenc = pickle.load(open(\"Cityencoder.pkl\",\"rb\"))\n",
    "senc = pickle.load(open(\"Stateencoder.pkl\",\"rb\"))\n",
    "renc = pickle.load(open(\"Regionencoder.pkl\",\"rb\"))\n",
    "catenc = pickle.load(open(\"Categoryencoder.pkl\",\"rb\"))\n",
    "scatenc = pickle.load(open(\"Sub-Categoryencoder.pkl\",\"rb\"))"
   ]
  },
  {
   "cell_type": "code",
   "execution_count": 3,
   "id": "984e98d4",
   "metadata": {},
   "outputs": [],
   "source": [
    "#pipeline\n",
    "spipe = pickle.load(open(\"Salespipeline.pkl\",\"rb\"))\n",
    "qpipe = pickle.load(open(\"Quantitypipeline.pkl\",\"rb\"))\n",
    "dpipe = pickle.load(open(\"Discountpipeline.pkl\",\"rb\"))"
   ]
  },
  {
   "cell_type": "code",
   "execution_count": 4,
   "id": "06fa2890",
   "metadata": {},
   "outputs": [
    {
     "data": {
      "text/plain": [
       "GradientBoostingRegressor(max_depth=None, max_features=6, min_samples_leaf=19,\n",
       "                          n_estimators=90)"
      ]
     },
     "execution_count": 4,
     "metadata": {},
     "output_type": "execute_result"
    }
   ],
   "source": [
    "#model\n",
    "model = pickle.load(open(\"final_model.pkl\",\"rb\")) #Unpickling our created model\n",
    "model"
   ]
  },
  {
   "cell_type": "code",
   "execution_count": 5,
   "id": "f0e95663",
   "metadata": {},
   "outputs": [],
   "source": [
    "def ValuePredictor(to_predict_list):\n",
    "    to_predict_list = list(to_predict_list.values())\n",
    "    to_predict_list[0] = shipModeenc.transform([to_predict_list[0]])\n",
    "    to_predict_list[1] = segenc.transform([to_predict_list[1]])\n",
    "    to_predict_list[2] = cenc.transform([to_predict_list[2]])\n",
    "    to_predict_list[3] = senc.transform([to_predict_list[3]])\n",
    "    to_predict_list[5] = renc.transform([to_predict_list[5]])\n",
    "    to_predict_list[6] = catenc.transform([to_predict_list[6]])\n",
    "    to_predict_list[7] = scatenc.transform([to_predict_list[7]])\n",
    "    to_predict_list[8] = spipe.transform(np.array([to_predict_list[8]]).reshape(-1,1))\n",
    "    to_predict_list[9] = qpipe.transform(np.array([to_predict_list[9]]).reshape(-1,1))\n",
    "    to_predict_list[10] = dpipe.transform(np.array([to_predict_list[10]]).reshape(-1,1))\n",
    "    to_predict = np.array([to_predict_list])\n",
    "    result = model.predict(to_predict)\n",
    "    return result[0]"
   ]
  },
  {
   "cell_type": "code",
   "execution_count": 6,
   "id": "4da15528",
   "metadata": {},
   "outputs": [
    {
     "name": "stdout",
     "output_type": "stream",
     "text": [
      " * Serving Flask app '__main__' (lazy loading)\n",
      " * Environment: production\n",
      "\u001b[31m   WARNING: This is a development server. Do not use it in a production deployment.\u001b[0m\n",
      "\u001b[2m   Use a production WSGI server instead.\u001b[0m\n",
      " * Debug mode: off\n"
     ]
    },
    {
     "name": "stderr",
     "output_type": "stream",
     "text": [
      " * Running on http://127.0.0.1:5000/ (Press CTRL+C to quit)\n"
     ]
    }
   ],
   "source": [
    "app = Flask(__name__) #Initializing Flask app\n",
    "@app.route('/')\n",
    "def DefaultFunction(): #default function gets called whenever we open this url\n",
    "    return render_template(\"index.html\")\n",
    "\n",
    "@app.route(\"/predict\",methods=[\"POST\",\"GET\"])\n",
    "def predict():\n",
    "    inp_features = request.form.to_dict()\n",
    "    output = ValuePredictor(inp_features)\n",
    "    if output>0:\n",
    "        return render_template(\"index.html\",pred=f\"Predicted profit : {round(output,3)}\")\n",
    "    elif output==0:\n",
    "        return render_template(\"index.html\",pred=\"Neither profit nor loss\")\n",
    "    elif output<0:\n",
    "        return render_template(\"index.html\",pred=f\"Predicted loss : {abs(round(output,3))}\")\n",
    "if __name__==\"__main__\":\n",
    "    app.run(debug=False)\n",
    "#Devices should be connected on the same wifi\n",
    "#PC acts as server and all other devices can act clients on specifying the host address (your laptop IP Address)"
   ]
  },
  {
   "cell_type": "code",
   "execution_count": null,
   "id": "c666cf3a",
   "metadata": {},
   "outputs": [],
   "source": []
  }
 ],
 "metadata": {
  "kernelspec": {
   "display_name": "Python 3 (ipykernel)",
   "language": "python",
   "name": "python3"
  },
  "language_info": {
   "codemirror_mode": {
    "name": "ipython",
    "version": 3
   },
   "file_extension": ".py",
   "mimetype": "text/x-python",
   "name": "python",
   "nbconvert_exporter": "python",
   "pygments_lexer": "ipython3",
   "version": "3.10.0"
  }
 },
 "nbformat": 4,
 "nbformat_minor": 5
}
